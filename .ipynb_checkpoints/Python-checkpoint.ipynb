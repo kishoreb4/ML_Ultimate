{
 "cells": [
  {
   "cell_type": "markdown",
   "id": "2a7708d6",
   "metadata": {},
   "source": [
    "### Using __len__ and __getitem__ in class"
   ]
  },
  {
   "cell_type": "code",
   "execution_count": 5,
   "id": "6ec4bb8b",
   "metadata": {},
   "outputs": [],
   "source": [
    "class Myclass():\n",
    "    def __init__(self, data):\n",
    "        self.data = data\n",
    "    \n",
    "    def __len__(self):\n",
    "        return len(self.data)\n",
    "    \n",
    "    def __getitem__(self, index):\n",
    "        \n",
    "        if isinstance(index, int):\n",
    "            return self.data[index]\n",
    "        elif isinstance(index,slice):\n",
    "            return self.data[index]\n",
    "        else:\n",
    "            raise TypeError(\"Invalid index Type\")\n",
    "    "
   ]
  },
  {
   "cell_type": "code",
   "execution_count": 8,
   "id": "0c28f1eb",
   "metadata": {},
   "outputs": [],
   "source": [
    "my_instance = Myclass([1,2,3,4,5])"
   ]
  },
  {
   "cell_type": "code",
   "execution_count": 9,
   "id": "b064822e",
   "metadata": {},
   "outputs": [],
   "source": [
    "length = len(my_instance)"
   ]
  },
  {
   "cell_type": "code",
   "execution_count": 10,
   "id": "52e8bd91",
   "metadata": {},
   "outputs": [
    {
     "name": "stdout",
     "output_type": "stream",
     "text": [
      "Length: 5\n"
     ]
    }
   ],
   "source": [
    "print(f\"Length: {length}\")"
   ]
  },
  {
   "cell_type": "code",
   "execution_count": 11,
   "id": "3792e0de",
   "metadata": {},
   "outputs": [
    {
     "data": {
      "text/plain": [
       "3"
      ]
     },
     "execution_count": 11,
     "metadata": {},
     "output_type": "execute_result"
    }
   ],
   "source": [
    "my_instance[2]"
   ]
  },
  {
   "cell_type": "code",
   "execution_count": 12,
   "id": "4b4d28af",
   "metadata": {},
   "outputs": [
    {
     "data": {
      "text/plain": [
       "[3, 4, 5]"
      ]
     },
     "execution_count": 12,
     "metadata": {},
     "output_type": "execute_result"
    }
   ],
   "source": [
    "my_instance[2:]"
   ]
  },
  {
   "cell_type": "code",
   "execution_count": null,
   "id": "a2306730",
   "metadata": {},
   "outputs": [],
   "source": []
  }
 ],
 "metadata": {
  "kernelspec": {
   "display_name": "Python 3 (ipykernel)",
   "language": "python",
   "name": "python3"
  },
  "language_info": {
   "codemirror_mode": {
    "name": "ipython",
    "version": 3
   },
   "file_extension": ".py",
   "mimetype": "text/x-python",
   "name": "python",
   "nbconvert_exporter": "python",
   "pygments_lexer": "ipython3",
   "version": "3.9.13"
  }
 },
 "nbformat": 4,
 "nbformat_minor": 5
}
