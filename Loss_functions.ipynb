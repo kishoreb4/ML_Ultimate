{
  "nbformat": 4,
  "nbformat_minor": 0,
  "metadata": {
    "colab": {
      "provenance": [],
      "authorship_tag": "ABX9TyMhK3hjlF12cnsUh2GBgZGi",
      "include_colab_link": true
    },
    "kernelspec": {
      "name": "python3",
      "display_name": "Python 3"
    },
    "language_info": {
      "name": "python"
    }
  },
  "cells": [
    {
      "cell_type": "markdown",
      "metadata": {
        "id": "view-in-github",
        "colab_type": "text"
      },
      "source": [
        "<a href=\"https://colab.research.google.com/github/kishoreb4/ML_Ultimate/blob/main/Loss_functions.ipynb\" target=\"_parent\"><img src=\"https://colab.research.google.com/assets/colab-badge.svg\" alt=\"Open In Colab\"/></a>"
      ]
    },
    {
      "cell_type": "code",
      "execution_count": null,
      "metadata": {
        "id": "fM5CIMp_h9PH"
      },
      "outputs": [],
      "source": []
    },
    {
      "cell_type": "code",
      "source": [
        "import numpy as np"
      ],
      "metadata": {
        "id": "3xxKq3LyiAgi"
      },
      "execution_count": 2,
      "outputs": []
    },
    {
      "cell_type": "code",
      "source": [],
      "metadata": {
        "id": "3LvrXuR5iBtB"
      },
      "execution_count": 5,
      "outputs": []
    },
    {
      "cell_type": "markdown",
      "source": [
        "### Lambda rank"
      ],
      "metadata": {
        "id": "slArJQItkE3o"
      }
    },
    {
      "cell_type": "code",
      "source": [
        "\n",
        "# One query with 3 documents\n",
        "y_true = np.array([3,2,0]) #Doc1 is very relevant to the query\n",
        "# doc2 is medium and doc3 is irrevelant\n",
        "\n",
        "y_pred = np.array([1.2, 0.8, 0.3])\n",
        "# Obj: Adjust y_pred so that higher-relevance docs get higher scores"
      ],
      "metadata": {
        "id": "9uHqscJkiZO4"
      },
      "execution_count": 3,
      "outputs": []
    },
    {
      "cell_type": "code",
      "source": [
        "# Pairs to consider\n",
        "pairs = pairs = [(i, j) for i in range(len(y_true)) for j in range(len(y_true)) if y_true[i] > y_true[j]]\n",
        "pairs"
      ],
      "metadata": {
        "id": "OvlHBnHBi9u-",
        "outputId": "25d75785-b73f-4c24-e6ab-3e675356c772",
        "colab": {
          "base_uri": "https://localhost:8080/"
        }
      },
      "execution_count": 6,
      "outputs": [
        {
          "output_type": "execute_result",
          "data": {
            "text/plain": [
              "[(0, 1), (0, 2), (1, 2)]"
            ]
          },
          "metadata": {},
          "execution_count": 6
        }
      ]
    },
    {
      "cell_type": "code",
      "source": [
        "def sigmoid(x):\n",
        "  return 1/(1+np.exp(-x))"
      ],
      "metadata": {
        "id": "8sYY2uwNjHmV"
      },
      "execution_count": 5,
      "outputs": []
    },
    {
      "cell_type": "code",
      "source": [
        "for i,j in pairs:\n",
        "  # print (i,j)\n",
        "  diff = y_pred[i]-y_pred[j]\n",
        "  Pij = sigmoid(diff)\n",
        "  print (f\"pair ({i},{j}): diff={diff:.3f}, P[i>j]={Pij:.4f}\")\n"
      ],
      "metadata": {
        "id": "vgCNALvWjhOd",
        "outputId": "178e4616-cef8-4aa7-8fae-12d9704027a2",
        "colab": {
          "base_uri": "https://localhost:8080/"
        }
      },
      "execution_count": 8,
      "outputs": [
        {
          "output_type": "stream",
          "name": "stdout",
          "text": [
            "pair (0,1): diff=0.400, P[i>j]=0.5987\n",
            "pair (0,2): diff=0.900, P[i>j]=0.7109\n",
            "pair (1,2): diff=0.500, P[i>j]=0.6225\n"
          ]
        }
      ]
    },
    {
      "cell_type": "code",
      "source": [
        "lambdas = np.zeros_like(y_pred, dtype=float)\n",
        "lambdas"
      ],
      "metadata": {
        "id": "reZ_zTNWmSIG",
        "outputId": "57f075b9-2646-4c7e-b5f9-2a5e240a6796",
        "colab": {
          "base_uri": "https://localhost:8080/"
        }
      },
      "execution_count": 18,
      "outputs": [
        {
          "output_type": "execute_result",
          "data": {
            "text/plain": [
              "array([0., 0., 0.])"
            ]
          },
          "metadata": {},
          "execution_count": 18
        }
      ]
    },
    {
      "cell_type": "code",
      "source": [
        "for i,j in pairs:\n",
        "  Pij = sigmoid(y_pred[i]-y_pred[j])\n",
        "  lam = -(1 - Pij)\n",
        "  # print(Pij)\n",
        "  lambdas[i] += lam\n",
        "  lambdas[j] -= lam\n",
        "  print(lambdas)\n",
        "print(\"lamdas per doc:\", lambdas.round(6))"
      ],
      "metadata": {
        "id": "DUzKqA4zqm20",
        "outputId": "81fbc0df-fe5b-4fbe-cf12-3dfbe2caf79c",
        "colab": {
          "base_uri": "https://localhost:8080/"
        }
      },
      "execution_count": 19,
      "outputs": [
        {
          "output_type": "stream",
          "name": "stdout",
          "text": [
            "[-0.40131234  0.40131234  0.        ]\n",
            "[-0.69036284  0.40131234  0.2890505 ]\n",
            "[-0.69036284  0.02377167  0.66659117]\n",
            "lamdas per doc: [-0.690363  0.023772  0.666591]\n"
          ]
        }
      ]
    },
    {
      "cell_type": "code",
      "source": [
        "lr = 0.1\n",
        "y_pred_new = y_pred - lr * lambdas\n",
        "print(\"old:\", y_pred)\n",
        "print(\"new:\", y_pred_new)\n"
      ],
      "metadata": {
        "id": "g9hjsg3rq4hi",
        "outputId": "69b0bb87-26d9-4925-db4d-c30c6fcb2837",
        "colab": {
          "base_uri": "https://localhost:8080/"
        }
      },
      "execution_count": 20,
      "outputs": [
        {
          "output_type": "stream",
          "name": "stdout",
          "text": [
            "old: [1.2 0.8 0.3]\n",
            "new: [1.26903628 0.79762283 0.23334088]\n"
          ]
        }
      ]
    },
    {
      "cell_type": "code",
      "source": [
        "# Running more iterations\n",
        "lr = 0.1\n",
        "for epoch in range(10):\n",
        "  lambdas = np.zeros_like(y_pred, dtype=float)\n",
        "  for i,j in pairs:\n",
        "    Pij = sigmoid(y_pred[i]-y_pred[j])\n",
        "    lam = -(1 - Pij)\n",
        "    # print(Pij)\n",
        "    lambdas[i] += lam\n",
        "    lambdas[j] -= lam\n",
        "  y_pred = y_pred - lr * lambdas\n",
        "  print(f\"epoch {epoch+1:02d} -> scores: {y_pred.round(4)}\")\n",
        "\n",
        "\n",
        ""
      ],
      "metadata": {
        "id": "NKq_xNSEsQrk",
        "outputId": "9ea53729-8884-4a2d-c1cf-f30f09fa12b6",
        "colab": {
          "base_uri": "https://localhost:8080/"
        }
      },
      "execution_count": 21,
      "outputs": [
        {
          "output_type": "stream",
          "name": "stdout",
          "text": [
            "epoch 01 -> scores: [1.269  0.7976 0.2333]\n",
            "epoch 02 -> scores: [1.3337 0.7955 0.1709]\n",
            "epoch 03 -> scores: [1.3943 0.7935 0.1122]\n",
            "epoch 04 -> scores: [1.4515 0.7916 0.0569]\n",
            "epoch 05 -> scores: [1.5054 0.79   0.0046]\n",
            "epoch 06 -> scores: [ 1.5565  0.7885 -0.0449]\n",
            "epoch 07 -> scores: [ 1.605   0.7871 -0.092 ]\n",
            "epoch 08 -> scores: [ 1.6511  0.7858 -0.1368]\n",
            "epoch 09 -> scores: [ 1.695   0.7846 -0.1796]\n",
            "epoch 10 -> scores: [ 1.737   0.7835 -0.2205]\n"
          ]
        }
      ]
    },
    {
      "cell_type": "code",
      "source": [],
      "metadata": {
        "id": "qDcSk1dFsidq"
      },
      "execution_count": null,
      "outputs": []
    }
  ]
}