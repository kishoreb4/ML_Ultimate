{
 "cells": [
  {
   "cell_type": "code",
   "execution_count": 9,
   "id": "c68a8b52",
   "metadata": {},
   "outputs": [],
   "source": [
    "import pandas as pd\n",
    "import numpy as np\n",
    "import matplotlib.pyplot as plt\n"
   ]
  },
  {
   "cell_type": "code",
   "execution_count": 10,
   "id": "0922381c",
   "metadata": {},
   "outputs": [],
   "source": [
    "# %pip install torch\n",
    "# %pip install torchvision"
   ]
  },
  {
   "cell_type": "code",
   "execution_count": 11,
   "id": "801ac8c9",
   "metadata": {},
   "outputs": [],
   "source": [
    "import torch\n",
    "import torch.nn.functional as F\n",
    "import torchvision\n",
    "import torchvision.transforms as transforms\n"
   ]
  },
  {
   "cell_type": "code",
   "execution_count": 12,
   "id": "12134528",
   "metadata": {},
   "outputs": [],
   "source": [
    "from torch.utils.data import Dataset, DataLoader\n",
    "from sklearn.model_selection import train_test_split\n"
   ]
  },
  {
   "cell_type": "code",
   "execution_count": 7,
   "id": "fb26e43d",
   "metadata": {},
   "outputs": [],
   "source": [
    "train_df = \\\n",
    "pd.read_csv('/Users/v0t00jq/Library/CloudStorage/OneDrive-WalmartInc/Backup_Complete/Documents/Others/ML_Final/Competitions/Zindi/Crop Damage Classification/cgiar-crop-damage-classification-challenge20231025-4563-11aqc98/Train.csv')\n"
   ]
  },
  {
   "cell_type": "code",
   "execution_count": 8,
   "id": "bf8e4ac0",
   "metadata": {},
   "outputs": [
    {
     "data": {
      "text/html": [
       "<div>\n",
       "<style scoped>\n",
       "    .dataframe tbody tr th:only-of-type {\n",
       "        vertical-align: middle;\n",
       "    }\n",
       "\n",
       "    .dataframe tbody tr th {\n",
       "        vertical-align: top;\n",
       "    }\n",
       "\n",
       "    .dataframe thead th {\n",
       "        text-align: right;\n",
       "    }\n",
       "</style>\n",
       "<table border=\"1\" class=\"dataframe\">\n",
       "  <thead>\n",
       "    <tr style=\"text-align: right;\">\n",
       "      <th></th>\n",
       "      <th>ID</th>\n",
       "      <th>damage</th>\n",
       "      <th>filename</th>\n",
       "    </tr>\n",
       "  </thead>\n",
       "  <tbody>\n",
       "    <tr>\n",
       "      <th>0</th>\n",
       "      <td>ID_UBHORS</td>\n",
       "      <td>WD</td>\n",
       "      <td>d036341be8d6cd59851cb80bcc9a70cc9fbdba30.jpg</td>\n",
       "    </tr>\n",
       "    <tr>\n",
       "      <th>1</th>\n",
       "      <td>ID_9DSOLZ</td>\n",
       "      <td>G</td>\n",
       "      <td>9ea16180c50d0cd539897eefbfe585314e50a56b.jpg</td>\n",
       "    </tr>\n",
       "    <tr>\n",
       "      <th>2</th>\n",
       "      <td>ID_JHLM0G</td>\n",
       "      <td>G</td>\n",
       "      <td>b6b564844041bc68774a553eaf43d61654657dd9.jpg</td>\n",
       "    </tr>\n",
       "    <tr>\n",
       "      <th>3</th>\n",
       "      <td>ID_ATREIJ</td>\n",
       "      <td>DR</td>\n",
       "      <td>62262859f0cd411aaf484082ed3ef0b625bc452a.jpg</td>\n",
       "    </tr>\n",
       "    <tr>\n",
       "      <th>4</th>\n",
       "      <td>ID_L2GAD6</td>\n",
       "      <td>G</td>\n",
       "      <td>03b6e2a8ace7cb611eccba289f3c83d9bd497584.jpg</td>\n",
       "    </tr>\n",
       "  </tbody>\n",
       "</table>\n",
       "</div>"
      ],
      "text/plain": [
       "          ID damage                                      filename\n",
       "0  ID_UBHORS     WD  d036341be8d6cd59851cb80bcc9a70cc9fbdba30.jpg\n",
       "1  ID_9DSOLZ      G  9ea16180c50d0cd539897eefbfe585314e50a56b.jpg\n",
       "2  ID_JHLM0G      G  b6b564844041bc68774a553eaf43d61654657dd9.jpg\n",
       "3  ID_ATREIJ     DR  62262859f0cd411aaf484082ed3ef0b625bc452a.jpg\n",
       "4  ID_L2GAD6      G  03b6e2a8ace7cb611eccba289f3c83d9bd497584.jpg"
      ]
     },
     "execution_count": 8,
     "metadata": {},
     "output_type": "execute_result"
    }
   ],
   "source": [
    "train_df.head()"
   ]
  },
  {
   "cell_type": "code",
   "execution_count": null,
   "id": "306e3727",
   "metadata": {},
   "outputs": [],
   "source": []
  }
 ],
 "metadata": {
  "kernelspec": {
   "display_name": "Python 3 (ipykernel)",
   "language": "python",
   "name": "python3"
  },
  "language_info": {
   "codemirror_mode": {
    "name": "ipython",
    "version": 3
   },
   "file_extension": ".py",
   "mimetype": "text/x-python",
   "name": "python",
   "nbconvert_exporter": "python",
   "pygments_lexer": "ipython3",
   "version": "3.9.13"
  }
 },
 "nbformat": 4,
 "nbformat_minor": 5
}
