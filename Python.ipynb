{
 "cells": [
  {
   "cell_type": "markdown",
   "id": "f818cba4",
   "metadata": {},
   "source": [
    "### Using __len__ and __getitem__ in class"
   ]
  },
  {
   "cell_type": "code",
   "execution_count": 5,
   "id": "6e7a6c50",
   "metadata": {},
   "outputs": [],
   "source": [
    "class Myclass():\n",
    "    def __init__(self, data):\n",
    "        self.data = data\n",
    "    \n",
    "    def __len__(self):\n",
    "        return len(self.data)\n",
    "    \n",
    "    def __getitem__(self, index):\n",
    "        \n",
    "        if isinstance(index, int):\n",
    "            return self.data[index]\n",
    "        elif isinstance(index,slice):\n",
    "            return self.data[index]\n",
    "        else:\n",
    "            raise TypeError(\"Invalid index Type\")\n",
    "    "
   ]
  },
  {
   "cell_type": "code",
   "execution_count": 8,
   "id": "1492c6db",
   "metadata": {},
   "outputs": [],
   "source": [
    "my_instance = Myclass([1,2,3,4,5])"
   ]
  },
  {
   "cell_type": "code",
   "execution_count": 9,
   "id": "1b9221a8",
   "metadata": {},
   "outputs": [],
   "source": [
    "length = len(my_instance)"
   ]
  },
  {
   "cell_type": "code",
   "execution_count": 10,
   "id": "4d65b610",
   "metadata": {},
   "outputs": [
    {
     "name": "stdout",
     "output_type": "stream",
     "text": [
      "Length: 5\n"
     ]
    }
   ],
   "source": [
    "print(f\"Length: {length}\")"
   ]
  },
  {
   "cell_type": "code",
   "execution_count": 11,
   "id": "7d86174d",
   "metadata": {},
   "outputs": [
    {
     "data": {
      "text/plain": [
       "3"
      ]
     },
     "execution_count": 11,
     "metadata": {},
     "output_type": "execute_result"
    }
   ],
   "source": [
    "my_instance[2]"
   ]
  },
  {
   "cell_type": "code",
   "execution_count": 12,
   "id": "a34357d1",
   "metadata": {},
   "outputs": [
    {
     "data": {
      "text/plain": [
       "[3, 4, 5]"
      ]
     },
     "execution_count": 12,
     "metadata": {},
     "output_type": "execute_result"
    }
   ],
   "source": [
    "my_instance[2:]"
   ]
  },
  {
   "cell_type": "code",
   "execution_count": 13,
   "id": "7b068ade",
   "metadata": {},
   "outputs": [
    {
     "ename": "NameError",
     "evalue": "name 'pd' is not defined",
     "output_type": "error",
     "traceback": [
      "\u001b[0;31m---------------------------------------------------------------------------\u001b[0m",
      "\u001b[0;31mNameError\u001b[0m                                 Traceback (most recent call last)",
      "\u001b[0;32m/var/folders/pv/p9ttw4ps66991gl_p7j15kq00000gq/T/ipykernel_33320/715804958.py\u001b[0m in \u001b[0;36m<module>\u001b[0;34m\u001b[0m\n\u001b[1;32m      1\u001b[0m \u001b[0mtrain_df\u001b[0m \u001b[0;34m=\u001b[0m\u001b[0;31m \u001b[0m\u001b[0;31m\\\u001b[0m\u001b[0;34m\u001b[0m\u001b[0;34m\u001b[0m\u001b[0m\n\u001b[0;32m----> 2\u001b[0;31m \u001b[0mpd\u001b[0m\u001b[0;34m.\u001b[0m\u001b[0mread_csv\u001b[0m\u001b[0;34m(\u001b[0m\u001b[0;34m'/Users/v0t00jq/Library/CloudStorage/OneDrive-WalmartInc/Backup_Complete/Documents/Others/ML_Final/Competitions/Zindi/Crop Damage Classification/cgiar-crop-damage-classification-challenge20231025-4563-11aqc98'\u001b[0m\u001b[0;34m)\u001b[0m\u001b[0;34m\u001b[0m\u001b[0;34m\u001b[0m\u001b[0m\n\u001b[0m\u001b[1;32m      3\u001b[0m \u001b[0;34m\u001b[0m\u001b[0m\n\u001b[1;32m      4\u001b[0m \u001b[0;34m\u001b[0m\u001b[0m\n",
      "\u001b[0;31mNameError\u001b[0m: name 'pd' is not defined"
     ]
    }
   ],
   "source": [
    "\n",
    "\n"
   ]
  },
  {
   "cell_type": "code",
   "execution_count": null,
   "id": "477e6c5e",
   "metadata": {},
   "outputs": [],
   "source": []
  }
 ],
 "metadata": {
  "kernelspec": {
   "display_name": "Python 3 (ipykernel)",
   "language": "python",
   "name": "python3"
  },
  "language_info": {
   "codemirror_mode": {
    "name": "ipython",
    "version": 3
   },
   "file_extension": ".py",
   "mimetype": "text/x-python",
   "name": "python",
   "nbconvert_exporter": "python",
   "pygments_lexer": "ipython3",
   "version": "3.9.13"
  }
 },
 "nbformat": 4,
 "nbformat_minor": 5
}
